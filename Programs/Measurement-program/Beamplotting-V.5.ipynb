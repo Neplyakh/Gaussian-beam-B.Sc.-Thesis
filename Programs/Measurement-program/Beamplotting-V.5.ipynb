{
 "cells": [
  {
   "cell_type": "markdown",
   "metadata": {},
   "source": [
    "# Import"
   ]
  },
  {
   "cell_type": "code",
   "execution_count": null,
   "metadata": {},
   "outputs": [],
   "source": [
    "# import base pacakges\n",
    "import numpy as np\n",
    "import matplotlib.pyplot as plt\n",
    "from mpl_toolkits.mplot3d import Axes3D # 3D plots\n",
    "import matplotlib.tri as tri # make surface plot\n",
    "from pathlib import Path # to extract data from registry\n",
    "import re # to extract number in name\n",
    "import scipy.optimize as opt # data fitting\n",
    "import pandas as pd # data frames\n",
    "from mpl_toolkits.axes_grid1 import make_axes_locatable #adjust colorbars to axis\n",
    "from tqdm.notebook import tqdm # loading bar\n",
    "import ipywidgets as widgets #widgets"
   ]
  },
  {
   "cell_type": "code",
   "execution_count": null,
   "metadata": {},
   "outputs": [],
   "source": [
    "# import custom made pacakges\n",
    "# directory navigation\n",
    "import os,sys,inspect\n",
    "currentdir = os.path.dirname(os.path.abspath(inspect.getfile(inspect.currentframe())))\n",
    "parentdir = os.path.dirname(currentdir)\n",
    "parentparentdir = os.path.dirname(parentdir)\n",
    "sys.path.insert(0,parentparentdir) \n",
    "# import \n",
    "from modules.config import c,d_in,foc,freq,λ,ω_0_in_list,ω_0_in # standard parameters\n",
    "from modules.beam_waist_functions import cal_ω_0_out_and_d_out, create_plot # theoretical beam waist functions\n",
    "from modules.heterodyne_functions import I_comb"
   ]
  },
  {
   "cell_type": "code",
   "execution_count": null,
   "metadata": {},
   "outputs": [],
   "source": [
    "# # # # # # # Turn off future warnings # # # # # \n",
    "import warnings\n",
    "warnings.filterwarnings(\"ignore\", category=FutureWarning)"
   ]
  },
  {
   "cell_type": "markdown",
   "metadata": {},
   "source": [
    "### Custom parameters"
   ]
  },
  {
   "cell_type": "code",
   "execution_count": null,
   "metadata": {},
   "outputs": [],
   "source": [
    "# # Define Physical constants:\n",
    "# c=2.99792458E11 # in mm/s\n",
    "\n",
    "# # Define Input Paramters:\n",
    "# d_in=449.7# in mm\n",
    "# freq=95E9\n",
    "# # mirror param:\n",
    "# foc=339.5\n",
    "# λ=c/freq\n",
    "# # manufacturers paramas:\n",
    "# ω_0_in_list={70:7.85,75:7.67,80:7.47,85:7.26,90:7.03,95:7.16,100:7.23,105:7.26,110:7.24} #GHz:mm\n",
    "# ω_0_in=ω_0_in_list[min(ω_0_in_list.keys(), key=lambda x:abs(x-freq/1E9))]"
   ]
  },
  {
   "cell_type": "markdown",
   "metadata": {},
   "source": [
    "# Import data from directory"
   ]
  },
  {
   "cell_type": "code",
   "execution_count": null,
   "metadata": {
    "scrolled": false
   },
   "outputs": [],
   "source": [
    "# path of measurements\n",
    "p=Path('./Measurements/serious measurements')\n",
    "# list all main measurement folders\n",
    "print(\"Choose folder:\")\n",
    "dir_names=list([x.name for x in p.iterdir() if x.is_dir() and x.name.startswith(\"Distance\")])\n",
    "menu=widgets.Dropdown(\n",
    "    options={dir_names[i]:i for i in range(len(dir_names))},\n",
    "    value=2,\n",
    "    description='Folder:')\n",
    "display(menu)"
   ]
  },
  {
   "cell_type": "code",
   "execution_count": null,
   "metadata": {},
   "outputs": [],
   "source": [
    "paths=list([x for x in p.iterdir() if x.is_dir() and x.name.startswith(\"Distance\")][menu.value].glob('./*.dat')) #use ** to also include subregistries\n",
    "#remember to change name if directory name is changed\n",
    "data=[]\n",
    "for path in paths:\n",
    "    data.append(np.genfromtxt(path,skip_header=1)[:,:3]) #all rows, only the first 3 columns\n",
    "# print current directory\n",
    "print(\"current directory:\\n{}\".format(dir_names[menu.value]))\n",
    "#extract distance from directory name\n",
    "pattern=re.compile(r\"(\\D+)(\\d+)\")\n",
    "dir_dist=np.int(pattern.match(dir_names[menu.value]).groups()[1])"
   ]
  },
  {
   "cell_type": "markdown",
   "metadata": {},
   "source": [
    "# Plot data"
   ]
  },
  {
   "cell_type": "code",
   "execution_count": null,
   "metadata": {},
   "outputs": [],
   "source": [
    "# in test_data\n",
    "rows=int(len(paths) / 3) + (len(paths) % 3 > 0) # how many rows\n",
    "size=np.int(np.sqrt(len(data[0][:,2])))\n",
    "# plot\n",
    "fig = plt.figure(figsize=(23, 6.7*rows))\n",
    "for i,image in enumerate(data):\n",
    "    ax=plt.subplot(rows,3,i+1)\n",
    "#     #########################\n",
    "#     ax=plt.subplot(3,2,i+1)\n",
    "#     #########################\n",
    "    im=ax.imshow(image[:,2].reshape((size,size)),cmap='jet', interpolation='nearest')\n",
    "    # xticks\n",
    "    ax.set_xticklabels(labels=image[:,0][:size][::4].astype(int))\n",
    "    ax.set_xticks(range(size)[::4])\n",
    "    ax.set_xlabel(\"x-pos in mm\",fontsize=15)\n",
    "    # yticks\n",
    "    ax.set_yticklabels(labels=image[:,1][::21][::4].astype(int))\n",
    "    ax.set_yticks(range(size)[::4])\n",
    "    ax.set_ylabel(\"y-pos in mm\",fontsize=15)\n",
    "    ax.set_title(paths[i].name,fontsize=20)\n",
    "    #adjust colorbar to plot\n",
    "    divider = make_axes_locatable(ax)\n",
    "    cax = divider.append_axes(\"right\", size=\"5%\", pad=0.1)\n",
    "    cbar=plt.colorbar(im, cax=cax)\n",
    "    cbar.ax.set_ylabel('intensity',fontsize=15)\n",
    "# print current directory\n",
    "print(\"current directory:\\n{}\".format(dir_names[menu.value]))\n",
    "\n",
    "# Export\n",
    "\n",
    "plt.savefig(\"Images/beam_maps/beam_maps_{}mm.png\".format(dir_dist), bbox_inches='tight')"
   ]
  },
  {
   "cell_type": "markdown",
   "metadata": {},
   "source": [
    "# Project find beam profile"
   ]
  },
  {
   "cell_type": "code",
   "execution_count": null,
   "metadata": {},
   "outputs": [],
   "source": [
    "def gaussian_profile(coords,A=1,b=0,x_0=0,y_0=0,σ_x=1,σ_y=1,θ=0,**kwargs):\n",
    "    if ('popt' in kwargs):\n",
    "        A,b,x_0,y_0,σ_x,σ_y,θ=popt[0],popt[1],popt[2],popt[3],popt[4],popt[5],popt[6]\n",
    "    a=np.cos(θ)**2/(2*σ_x**2)+np.sin(θ)**2/(2*σ_y**2)\n",
    "    c=np.sin(2*θ)*(-1/(4*σ_x**2)+1/(4*σ_y**2))\n",
    "    d=np.sin(θ)**2/(2*σ_x**2)+np.cos(θ)**2/(2*σ_y**2)\n",
    "    return A*np.exp(-(a*(coords[0]-x_0)**2+2*c*(coords[0]-x_0)*(coords[1]-y_0)+d*(coords[1]-y_0)**2))+b\n",
    "# Was das Modell nicht berücksichtigt:\n",
    "    # Auftreffswinkel"
   ]
  },
  {
   "cell_type": "code",
   "execution_count": null,
   "metadata": {},
   "outputs": [],
   "source": [
    "# caclulate fits\n",
    "popt_data=[]\n",
    "pcov_data=[]\n",
    "for image in data:\n",
    "    max_pos=np.where(image[:,2]==np.amax(image[:,2]))\n",
    "    initial_guess = (np.amax(image),0,np.int(image[max_pos,0]),np.int(image[max_pos,1]),20,20,0)\n",
    "    popt, pcov = opt.curve_fit(gaussian_profile, (image[:,0], image[:,1]), image[:,2], p0=initial_guess)\n",
    "    pcov=np.sqrt(np.diag(pcov))\n",
    "    popt_data.append(popt)\n",
    "    pcov_data.append(pcov)"
   ]
  },
  {
   "cell_type": "code",
   "execution_count": null,
   "metadata": {},
   "outputs": [],
   "source": [
    "# plot the fits and functions in 3D\n",
    "rows=int(len(popt_data) / 3) + (len(popt_data) % 3 > 0) # how many rows\n",
    "fig = plt.figure(figsize=(24,rows*7))\n",
    "\n",
    "for i,(popt,image) in enumerate(zip(popt_data,data)):\n",
    "    X=np.linspace(np.amin(image[:,0]),np.amax(image[:,0]),50)\n",
    "    Y=np.linspace(np.amin(image[:,1]),np.amax(image[:,1]),50)\n",
    "    X_grid,Y_grid=np.meshgrid(X,Y)\n",
    "    #plot\n",
    "    ax = fig.add_subplot(rows,3,i+1, projection='3d')\n",
    "    ax.set_xlabel('X-pos in mm', fontsize=15)\n",
    "    ax.set_ylabel('Y-pos in mm', fontsize=15)\n",
    "    ax.set_zlabel('Intensität', fontsize=15)\n",
    "    Z=[gaussian_profile((x,y),popt=popt) for x in X for y in Y]\n",
    "    ax.plot_trisurf(image[:,0], image[:,1], image[:,2], cmap='Blues',alpha=0.3)\n",
    "    ax.plot_trisurf(X_grid.ravel(), Y_grid.ravel(), Z, cmap='Reds',alpha=0.4 )\n",
    "    ax.set_title(paths[i].name, fontsize=20)\n",
    "# legend\n",
    "    blue_proxy = plt.Rectangle((0, 0), 1, 1, fc=\"Blue\",alpha=0.3)\n",
    "    red_proxy = plt.Rectangle((0, 0), 1, 1, fc=\"red\",alpha=0.4)\n",
    "    ax.view_init(65,-45) #angle of view\n",
    "fig.legend([blue_proxy,red_proxy],['data','gauss-fit'],loc=1,prop={\"size\":40})\n",
    "# print current directory\n",
    "print(\"current directory:\\n{}\".format(dir_names[menu.value]))\n",
    "\n",
    "# export\n",
    "\n",
    "plt.savefig(\"Images/Gauss_fits_3D/Gauss_fits_3D_{}mm.png\".format(dir_dist), bbox_inches='tight')"
   ]
  },
  {
   "cell_type": "code",
   "execution_count": null,
   "metadata": {},
   "outputs": [],
   "source": [
    "# plot the fits and functions\n",
    "rows=int(len(popt_data) / 3) + (len(popt_data) % 3 > 0) # how many rows\n",
    "fig = plt.figure(figsize=(20,rows*5))\n",
    "\n",
    "for i,(popt,image) in enumerate(zip(popt_data,data)):\n",
    "    #max positions\n",
    "    max_pos=np.where(image[:,2]==np.amax(image[:,2]))[0][0]\n",
    "    x_max=np.int(image[:,0][max_pos])\n",
    "    y_max=np.int(image[:,1][max_pos])\n",
    "    #plot\n",
    "    ax = fig.add_subplot(rows,3,i+1)\n",
    "    ax.set_xlabel('x- or y-pos in mm', fontsize=25)\n",
    "    ax.set_ylabel('Intensity', fontsize=25)\n",
    "    ax.set_title(paths[i].name, fontsize=20)\n",
    "    # x-plot\n",
    "    X_vals=image[:,0][np.where(image[:,1]==y_max)]\n",
    "    X_ints=image[:,2][np.where(image[:,1]==y_max)]\n",
    "    X_fit=[gaussian_profile((x,y_max),popt=popt) for x in X_vals]\n",
    "    plt.bar(X_vals,X_ints,width=4,color=\"blue\",edgecolor=\"black\",alpha=0.3,label=\"x-data\")\n",
    "    plt.plot(X_vals,X_fit,color=\"blue\",label=\"x-fit\")\n",
    "    # y_plot\n",
    "    Y_vals=image[:,1][np.where(image[:,0]==x_max)]\n",
    "    Y_ints=image[:,2][np.where(image[:,0]==x_max)]\n",
    "    Y_fit=[gaussian_profile((x_max,y),popt=popt) for y in Y_vals]\n",
    "    plt.bar(Y_vals,Y_ints,width=4,color=\"red\",edgecolor=\"black\",alpha=0.3,label=\"y-data\")\n",
    "    plt.plot(Y_vals,Y_fit,color=\"red\",label=\"y-fit\")\n",
    "    plt.legend(prop={\"size\":10})\n",
    "plt.tight_layout()\n",
    "# print current directory\n",
    "print(\"current directory:\\n{}\".format(dir_names[menu.value]))\n",
    "\n",
    "# export\n",
    "\n",
    "plt.savefig(\"Images/Gauss_fits_xy/Gauss_fits_xy_{}mm.png\".format(dir_dist), bbox_inches='tight')"
   ]
  },
  {
   "cell_type": "code",
   "execution_count": null,
   "metadata": {},
   "outputs": [],
   "source": [
    "popt_array=np.array(popt_data)\n",
    "pcov_array=np.array(pcov_data)\n",
    "total_array=np.zeros(shape=(popt_array.shape[0],popt_array.shape[1]*2))\n",
    "for i in range(0,total_array.shape[1]):\n",
    "    if i%2==0:\n",
    "        total_array[:,i]=popt_array[:,np.int(i/2)]\n",
    "    else:\n",
    "        total_array[:,i]=pcov_array[:,np.int((i-1)/2)]"
   ]
  },
  {
   "cell_type": "code",
   "execution_count": null,
   "metadata": {
    "scrolled": false
   },
   "outputs": [],
   "source": [
    "# create Pandas DataFrame\n",
    "popt_array=np.array(popt_data)\n",
    "pcov_array=np.array(pcov_data)\n",
    "total_array=np.zeros(shape=(popt_array.shape[0],popt_array.shape[1]*2))\n",
    "for i in range(0,total_array.shape[1]):\n",
    "    if i%2==0:\n",
    "        total_array[:,i]=popt_array[:,np.int(i/2)]\n",
    "    else:\n",
    "        total_array[:,i]=pcov_array[:,np.int((i-1)/2)]\n",
    "#DataFrame initialization\n",
    "fit_results=pd.DataFrame(total_array,index=list(map(lambda x: x.name, paths)),\n",
    "                     columns=[\"A\",\"ΔA\",\"b\",\"Δb\",\"x_0\",\"Δx_0\",\"y_0\",\"Δy_0\",\"σ_x\",\"Δσ_x\",\"σ_y\",\"Δσ_y\",\"θ\",\"Δθ\"]).round(decimals=2)\n",
    "fit_results[\"θ\"],fit_results[\"Δθ\"]=(fit_results[\"θ\"]%(2*np.pi)).round(decimals=2),(fit_results[\"Δθ\"]%(2*np.pi)).round(decimals=2)"
   ]
  },
  {
   "cell_type": "code",
   "execution_count": null,
   "metadata": {},
   "outputs": [],
   "source": [
    "# In the following we assume that σ_x=σ_y und therefore take the average:\n",
    "total_results=pd.DataFrame([(fit_results[\"σ_x\"]+fit_results[\"σ_y\"])/2,\n",
    "                            np.sqrt((fit_results[\"Δσ_x\"]**2+fit_results[\"Δσ_y\"]**2))/2],\n",
    "                           index=[\"σ\",\"Δσ\"]).T.round(decimals=2)\n",
    "total_results[\"ω_z\"]=2*total_results[\"σ\"]\n",
    "total_results[\"Δω_z\"]=2*total_results[\"Δσ\"]\n",
    "total_results"
   ]
  },
  {
   "cell_type": "markdown",
   "metadata": {},
   "source": [
    "# Comparison of theory and experiment"
   ]
  },
  {
   "cell_type": "markdown",
   "metadata": {},
   "source": [
    "## Standard Calculation"
   ]
  },
  {
   "cell_type": "code",
   "execution_count": null,
   "metadata": {
    "scrolled": false
   },
   "outputs": [],
   "source": [
    "# find all frequencies in our data\n",
    "path_names=list(map(lambda x: x.name, paths))\n",
    "pattern=re.compile(r\"(\\D+)(\\d+)\")\n",
    "freq_list=np.array([pattern.match(x).groups()[1] for x in path_names]).astype(int)\n",
    "frequencies=np.unique(freq_list) # in GHz\n",
    "# error bars\n",
    "freq_range=np.linspace(min(frequencies),max(frequencies),100)\n",
    "# # # # # # # #\n",
    "d_in_err=10\n",
    "d_mirr_device=15\n",
    "X_err=np.sqrt((d_in_err)**2+(d_mirr_device)**2)\n",
    "foc_err=0\n",
    "freq_err=1.25\n",
    "err_precision=1\n",
    "# # # # # # # # \n",
    "X_bar=np.arange(dir_dist-X_err,dir_dist+X_err+err_precision,err_precision)\n",
    "d_in_bar=np.arange(d_in-d_in_err,d_in+d_in_err+err_precision,err_precision)\n",
    "foc_bar=np.arange(foc-foc_err,foc+foc_err+err_precision,err_precision)\n",
    "error_area=np.zeros((len(X_bar)*len(d_in_bar)*len(np.arange(freq-freq_err,freq+freq_err+err_precision,err_precision))*len(foc_bar),len(freq_range)))\n",
    "# # # # # # # #\n",
    "for i,freq in tqdm(enumerate(freq_range),total=len(freq_range),desc=\"progress\"):\n",
    "    j=0\n",
    "    freq_bar=np.arange(freq-freq_err,freq+freq_err+err_precision,err_precision)\n",
    "    for err_X in X_bar:\n",
    "        for err_d_in in d_in_bar:\n",
    "            for err_foc in foc_bar:\n",
    "                for err_freq in freq_bar:\n",
    "                    error_area[j,i]=create_plot(X=err_X, d_in=err_d_in,ω_0_in=ω_0_in_list[min(ω_0_in_list.keys(), key=lambda x:abs(x-err_freq))],foc=err_foc,λ=c/(err_freq*1E9))\n",
    "                    j+=1\n",
    "#plot experimental data\n",
    "ax=plt.subplot(111)\n",
    "ax.errorbar(freq_list.astype(int),np.array(total_results[\"ω_z\"]),linestyle=\"\",\n",
    "             yerr=np.array(total_results[\"Δω_z\"]), color=\"red\",marker=\".\",label=\"Experiment\")\n",
    "# plot theory data without errors\n",
    "clean_theory=[create_plot(X=dir_dist, d_in=d_in,ω_0_in=ω_0_in_list[min(ω_0_in_list.keys(), key=lambda x:abs(x-freq))],foc=foc,λ=c/(freq*1E9)) for freq in freq_range]\n",
    "ax.plot(freq_range,clean_theory,color=\"blue\",linewidth=1, label=\"Theory without errors\")\n",
    "#plot error\n",
    "ax.plot(freq_range,error_area.max(axis=0), color=\"blue\",linewidth=0.5, label=\"Theory\")\n",
    "ax.plot(freq_range,error_area.min(axis=0), color=\"blue\",linewidth=0.5)\n",
    "ax.fill_between(freq_range, error_area.max(axis=0), error_area.min(axis=0), facecolor='blue', interpolate=True,alpha=0.1)\n",
    "# legend\n",
    "handles, labels = ax.get_legend_handles_labels()\n",
    "ax.legend([handles[2][0],handles[1],handles[0]],labels[::-1],loc='upper right', numpoints=1)\n",
    "#ax.set_title(\"Comparison between Theory and Experiment\",fontsize=15)\n",
    "ax.set_xlabel(\"Frequency in GHz\",fontsize=15)\n",
    "ax.set_ylabel(\"Beam Width ω_z in mm\",fontsize=15)\n",
    "ax.grid(True) # activate grid in plot\n",
    "# print current directory\n",
    "print(\"current directory:\\n{}\".format(dir_names[menu.value]))\n",
    "\n",
    "# export\n",
    "\n",
    "plt.savefig(\"Images/comp_standard/comp_standard_{}mm.png\".format(dir_dist), bbox_inches='tight')"
   ]
  },
  {
   "cell_type": "markdown",
   "metadata": {},
   "source": [
    "## Heterodyne Calculation"
   ]
  },
  {
   "cell_type": "markdown",
   "metadata": {},
   "source": [
    "### Without errors, but 100 frequencies per band"
   ]
  },
  {
   "cell_type": "code",
   "execution_count": null,
   "metadata": {},
   "outputs": [],
   "source": [
    "# find all frequencies in our data\n",
    "path_names=list(map(lambda x: x.name, paths))\n",
    "pattern=re.compile(r\"(\\D+)(\\d+)\")\n",
    "freq_list=np.array([pattern.match(x).groups()[1] for x in path_names]).astype(int)"
   ]
  },
  {
   "cell_type": "code",
   "execution_count": null,
   "metadata": {},
   "outputs": [],
   "source": [
    "# find all frequencies in our data\n",
    "path_names=list(map(lambda x: x.name, paths))\n",
    "pattern=re.compile(r\"(\\D+)(\\d+)\")\n",
    "freq_list=np.array([pattern.match(x).groups()[1] for x in path_names]).astype(int)\n",
    "# rest\n",
    "band=100 # elements per band (discrete approximation for continuous value)\n",
    "\n",
    "# Caculation\n",
    "X_a=[list(np.linspace(x-6.35-1.25,x-6.35+1.25,band))+list(np.linspace(x+6.35-1.25,x+6.35+1.25,band)) for x in freq_list]\n",
    "X_b=[[1/len(X_a[0])]*len(X_a[0])]*len(X_a)\n",
    "Y=[I_comb(dir_dist, f_list=X_a[i], A_0_list=X_b[i],d_in=d_in,foc=foc,c=c,ω_0_in_list=ω_0_in_list) for i in tqdm(range(len(X_a)))]\n",
    "ax= plt.subplot(1,1,1)\n",
    "ax.scatter(freq_list,Y,color=\"blue\",s=10,label=\"intensity by two frequenciey bands (1000 points per band)\")\n",
    "ax.errorbar(freq_list.astype(int),np.array(total_results[\"ω_z\"]),linestyle=\"\",\n",
    "             yerr=np.array(total_results[\"Δω_z\"]), color=\"red\",marker=\".\",label=\"Experiment\")\n",
    "ax.set_xlabel(\"frequency ν in GHz\",fontsize=14)\n",
    "ax.set_ylabel(\"beam radius w(z) in mm\",fontsize=14)\n",
    "ax.grid(True) # activate grid in plot\n",
    "plt.legend(bbox_to_anchor=(0.0, 1.17), loc='upper left', borderaxespad=0.)\n"
   ]
  },
  {
   "cell_type": "markdown",
   "metadata": {},
   "source": [
    "### With errors, but less frequencies in band"
   ]
  },
  {
   "cell_type": "code",
   "execution_count": null,
   "metadata": {},
   "outputs": [],
   "source": [
    "# find all frequencies in our data\n",
    "path_names=list(map(lambda x: x.name, paths))\n",
    "pattern=re.compile(r\"(\\D+)(\\d+)\")\n",
    "freq_list=np.array([pattern.match(x).groups()[1] for x in path_names]).astype(int)\n",
    "frequencies=np.unique(freq_list) # in GHz\n",
    "# error bars\n",
    "freq_range=np.linspace(min(frequencies),max(frequencies),100)\n",
    "# # # # # # # #\n",
    "d_in_err=10\n",
    "d_mirr_device=15\n",
    "X_err=np.sqrt((d_in_err)**2+(d_mirr_device)**2)\n",
    "foc_err=0\n",
    "freq_err=0\n",
    "err_precision=5\n",
    "band=20\n",
    "# # # # # # # # \n",
    "X_bar=np.arange(dir_dist-X_err,dir_dist+X_err+err_precision,err_precision)\n",
    "d_in_bar=np.arange(d_in-d_in_err,d_in+d_in_err+err_precision,err_precision)\n",
    "foc_bar=np.arange(foc-foc_err,foc+foc_err+err_precision,err_precision)\n",
    "error_area=np.zeros((len(X_bar)*len(d_in_bar)*len(np.arange(freq-freq_err,freq+freq_err+err_precision,err_precision))*len(foc_bar),len(freq_range)))\n",
    "# # # # # # # #\n",
    "for i,freq in tqdm(enumerate(freq_range),total=len(freq_range),desc=\"total progress\"):\n",
    "    j=0\n",
    "    freq_bar=np.arange(freq-freq_err,freq+freq_err+err_precision,err_precision)\n",
    "    for err_X in tqdm(X_bar,leave=False):\n",
    "        for err_d_in in d_in_bar:\n",
    "            for err_foc in foc_bar:\n",
    "                for err_freq in freq_bar:\n",
    "                    # Caculation\n",
    "                    X_a=list(np.linspace(err_freq-6.35-1.25,err_freq-6.35+1.25,band)) + list(np.linspace(err_freq+6.35-1.25,err_freq+6.35+1.25,band))\n",
    "                    X_b=[1/len(X_a)]*len(X_a)\n",
    "                    error_area[j,i]=I_comb(err_X, f_list=X_a, A_0_list=X_b,d_in=err_d_in,foc=err_foc,c=c,ω_0_in_list=ω_0_in_list)\n",
    "                    j+=1\n",
    "#plot experimental data\n",
    "ax=plt.subplot(111)\n",
    "ax.errorbar(freq_list.astype(int),np.array(total_results[\"ω_z\"]),linestyle=\"\",\n",
    "             yerr=np.array(total_results[\"Δω_z\"]), color=\"red\",marker=\".\",label=\"Experiment\")\n",
    "# plot theory data without errors\n",
    "X_a=[list(np.linspace(x-6.35-1.25,x-6.35+1.25,band))+list(np.linspace(x+6.35-1.25,x+6.35+1.25,band)) for x in freq_list]\n",
    "X_b=[[1/len(X_a[0])]*len(X_a[0])]*len(X_a)\n",
    "Y=[I_comb(dir_dist, f_list=X_a[i], A_0_list=X_b[i],d_in=d_in,foc=foc,c=c,ω_0_in=ω_0_in) for i in tqdm(range(len(X_a)))]\n",
    "ax.scatter(freq_list,Y,color=\"blue\", label=\"Theory without errors\")\n",
    "#plot error\n",
    "ax.plot(freq_range,error_area.max(axis=0), color=\"blue\",linewidth=0.5, label=\"Theory\")\n",
    "ax.plot(freq_range,error_area.min(axis=0), color=\"blue\",linewidth=0.5)\n",
    "ax.fill_between(freq_range, error_area.max(axis=0), error_area.min(axis=0), facecolor='blue', interpolate=True,alpha=0.1)\n",
    "# legend\n",
    "handles, labels = ax.get_legend_handles_labels()\n",
    "ax.legend([handles[2][0],handles[1],handles[0]],labels[::-1],loc='upper right', numpoints=1)\n",
    "#ax.set_title(\"Comparison between Theory and Experiment\",fontsize=15)\n",
    "ax.set_xlabel(\"Frequency in GHz\",fontsize=15)\n",
    "ax.set_ylabel(\"Beam Width ω_z in mm\",fontsize=15)\n",
    "ax.grid(True)\n",
    "# print current directory\n",
    "print(\"current directory:\\n{}\".format(dir_names[menu.value]))\n",
    "\n",
    "# export\n",
    "\n",
    "plt.savefig(\"Images/comp_heterodyne/comp_heterodyne_{}mm.png\".format(dir_dist), bbox_inches='tight')"
   ]
  }
 ],
 "metadata": {
  "kernelspec": {
   "display_name": "Python 3",
   "language": "python",
   "name": "python3"
  },
  "language_info": {
   "codemirror_mode": {
    "name": "ipython",
    "version": 3
   },
   "file_extension": ".py",
   "mimetype": "text/x-python",
   "name": "python",
   "nbconvert_exporter": "python",
   "pygments_lexer": "ipython3",
   "version": "3.7.7"
  }
 },
 "nbformat": 4,
 "nbformat_minor": 4
}

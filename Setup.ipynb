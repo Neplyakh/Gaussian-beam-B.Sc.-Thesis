{
 "cells": [
  {
   "cell_type": "markdown",
   "metadata": {},
   "source": [
    "# Setup"
   ]
  },
  {
   "cell_type": "markdown",
   "metadata": {},
   "source": [
    "### Packages in the requirements"
   ]
  },
  {
   "cell_type": "code",
   "execution_count": 21,
   "metadata": {},
   "outputs": [
    {
     "name": "stdout",
     "output_type": "stream",
     "text": [
      "\u001b[1mRequired packages:\n",
      "\u001b[0m\n",
      "scikit-learn==0.23.1\n",
      "\n",
      "pandas==1.0.5\n",
      "\n",
      "tqdm==4.47.0\n",
      "\n",
      "scipy==1.5.0\n",
      "\n",
      "pandas==1.0.5\n",
      "\n",
      "ipywidgets==7.5.1\n",
      "\n",
      "bokeh==2.1.0\n",
      "\n",
      "numpy>=1.18.5\n",
      "\n",
      "matplotlib>=3.2.2\n",
      "\n"
     ]
    }
   ],
   "source": [
    "print('\\033[1m' + \"Required packages:\\n\" + '\\033[0m')\n",
    "for l in open(\"requirements.txt\"):\n",
    "    print(l)"
   ]
  },
  {
   "cell_type": "markdown",
   "metadata": {},
   "source": [
    "### Run this line to install all required packages"
   ]
  },
  {
   "cell_type": "markdown",
   "metadata": {},
   "source": [
    "#### if this does not work, try to set all \">=\" to \"==\" in the \"requirements.txt\"-file"
   ]
  },
  {
   "cell_type": "code",
   "execution_count": 19,
   "metadata": {
    "scrolled": true
   },
   "outputs": [
    {
     "name": "stdout",
     "output_type": "stream",
     "text": [
      "Requirement already satisfied: scikit-learn==0.23.1 in c:\\users\\neply\\anaconda3\\lib\\site-packages (from -r requirements.txt (line 1)) (0.23.1)\n",
      "Requirement already satisfied: pandas==1.0.5 in c:\\users\\neply\\anaconda3\\lib\\site-packages (from -r requirements.txt (line 2)) (1.0.5)\n",
      "Requirement already satisfied: tqdm==4.47.0 in c:\\users\\neply\\anaconda3\\lib\\site-packages (from -r requirements.txt (line 3)) (4.47.0)\n",
      "Requirement already satisfied: scipy==1.5.0 in c:\\users\\neply\\anaconda3\\lib\\site-packages (from -r requirements.txt (line 4)) (1.5.0)\n",
      "Requirement already satisfied: ipywidgets==7.5.1 in c:\\users\\neply\\anaconda3\\lib\\site-packages (from -r requirements.txt (line 6)) (7.5.1)\n",
      "Requirement already satisfied: bokeh==2.1.0 in c:\\users\\neply\\anaconda3\\lib\\site-packages (from -r requirements.txt (line 7)) (2.1.0)\n",
      "Requirement already satisfied: numpy>=1.18.5 in c:\\users\\neply\\anaconda3\\lib\\site-packages (from -r requirements.txt (line 8)) (1.18.5)\n",
      "Requirement already satisfied: matplotlib>=3.2.2 in c:\\users\\neply\\anaconda3\\lib\\site-packages (from -r requirements.txt (line 9)) (3.2.2)\n",
      "Requirement already satisfied: threadpoolctl>=2.0.0 in c:\\users\\neply\\anaconda3\\lib\\site-packages (from scikit-learn==0.23.1->-r requirements.txt (line 1)) (2.1.0)\n",
      "Requirement already satisfied: joblib>=0.11 in c:\\users\\neply\\anaconda3\\lib\\site-packages (from scikit-learn==0.23.1->-r requirements.txt (line 1)) (0.16.0)\n",
      "Requirement already satisfied: pytz>=2017.2 in c:\\users\\neply\\anaconda3\\lib\\site-packages (from pandas==1.0.5->-r requirements.txt (line 2)) (2020.1)\n",
      "Requirement already satisfied: python-dateutil>=2.6.1 in c:\\users\\neply\\anaconda3\\lib\\site-packages (from pandas==1.0.5->-r requirements.txt (line 2)) (2.8.1)\n",
      "Requirement already satisfied: traitlets>=4.3.1 in c:\\users\\neply\\anaconda3\\lib\\site-packages (from ipywidgets==7.5.1->-r requirements.txt (line 6)) (4.3.3)\n",
      "Requirement already satisfied: widgetsnbextension~=3.5.0 in c:\\users\\neply\\anaconda3\\lib\\site-packages (from ipywidgets==7.5.1->-r requirements.txt (line 6)) (3.5.1)\n",
      "Requirement already satisfied: nbformat>=4.2.0 in c:\\users\\neply\\anaconda3\\lib\\site-packages (from ipywidgets==7.5.1->-r requirements.txt (line 6)) (5.0.7)\n",
      "Requirement already satisfied: ipykernel>=4.5.1 in c:\\users\\neply\\anaconda3\\lib\\site-packages (from ipywidgets==7.5.1->-r requirements.txt (line 6)) (5.3.0)\n",
      "Requirement already satisfied: ipython>=4.0.0; python_version >= \"3.3\" in c:\\users\\neply\\anaconda3\\lib\\site-packages (from ipywidgets==7.5.1->-r requirements.txt (line 6)) (7.16.1)\n",
      "Requirement already satisfied: PyYAML>=3.10 in c:\\users\\neply\\anaconda3\\lib\\site-packages (from bokeh==2.1.0->-r requirements.txt (line 7)) (5.3.1)\n",
      "Requirement already satisfied: Jinja2>=2.7 in c:\\users\\neply\\anaconda3\\lib\\site-packages (from bokeh==2.1.0->-r requirements.txt (line 7)) (2.11.2)\n",
      "Requirement already satisfied: pillow>=4.0 in c:\\users\\neply\\anaconda3\\lib\\site-packages (from bokeh==2.1.0->-r requirements.txt (line 7)) (7.2.0)\n",
      "Requirement already satisfied: packaging>=16.8 in c:\\users\\neply\\anaconda3\\lib\\site-packages (from bokeh==2.1.0->-r requirements.txt (line 7)) (20.4)\n",
      "Requirement already satisfied: tornado>=5.1 in c:\\users\\neply\\anaconda3\\lib\\site-packages (from bokeh==2.1.0->-r requirements.txt (line 7)) (6.0.4)\n",
      "Requirement already satisfied: typing-extensions>=3.7.4 in c:\\users\\neply\\anaconda3\\lib\\site-packages (from bokeh==2.1.0->-r requirements.txt (line 7)) (3.7.4.2)\n",
      "Requirement already satisfied: pyparsing!=2.0.4,!=2.1.2,!=2.1.6,>=2.0.1 in c:\\users\\neply\\anaconda3\\lib\\site-packages (from matplotlib>=3.2.2->-r requirements.txt (line 9)) (2.4.7)\n",
      "Requirement already satisfied: kiwisolver>=1.0.1 in c:\\users\\neply\\anaconda3\\lib\\site-packages (from matplotlib>=3.2.2->-r requirements.txt (line 9)) (1.2.0)\n",
      "Requirement already satisfied: cycler>=0.10 in c:\\users\\neply\\anaconda3\\lib\\site-packages (from matplotlib>=3.2.2->-r requirements.txt (line 9)) (0.10.0)\n",
      "Requirement already satisfied: six>=1.5 in c:\\users\\neply\\anaconda3\\lib\\site-packages (from python-dateutil>=2.6.1->pandas==1.0.5->-r requirements.txt (line 2)) (1.15.0)\n",
      "Requirement already satisfied: ipython-genutils in c:\\users\\neply\\anaconda3\\lib\\site-packages (from traitlets>=4.3.1->ipywidgets==7.5.1->-r requirements.txt (line 6)) (0.2.0)\n",
      "Requirement already satisfied: decorator in c:\\users\\neply\\anaconda3\\lib\\site-packages (from traitlets>=4.3.1->ipywidgets==7.5.1->-r requirements.txt (line 6)) (4.4.2)\n",
      "Requirement already satisfied: notebook>=4.4.1 in c:\\users\\neply\\anaconda3\\lib\\site-packages (from widgetsnbextension~=3.5.0->ipywidgets==7.5.1->-r requirements.txt (line 6)) (6.0.3)\n",
      "Requirement already satisfied: jsonschema!=2.5.0,>=2.4 in c:\\users\\neply\\anaconda3\\lib\\site-packages (from nbformat>=4.2.0->ipywidgets==7.5.1->-r requirements.txt (line 6)) (3.2.0)\n",
      "Requirement already satisfied: jupyter-core in c:\\users\\neply\\anaconda3\\lib\\site-packages (from nbformat>=4.2.0->ipywidgets==7.5.1->-r requirements.txt (line 6)) (4.6.3)\n",
      "Requirement already satisfied: jupyter-client in c:\\users\\neply\\anaconda3\\lib\\site-packages (from ipykernel>=4.5.1->ipywidgets==7.5.1->-r requirements.txt (line 6)) (6.1.5)\n",
      "Requirement already satisfied: pygments in c:\\users\\neply\\anaconda3\\lib\\site-packages (from ipython>=4.0.0; python_version >= \"3.3\"->ipywidgets==7.5.1->-r requirements.txt (line 6)) (2.6.1)\n",
      "Requirement already satisfied: setuptools>=18.5 in c:\\users\\neply\\anaconda3\\lib\\site-packages (from ipython>=4.0.0; python_version >= \"3.3\"->ipywidgets==7.5.1->-r requirements.txt (line 6)) (47.3.1.post20200622)\n",
      "Requirement already satisfied: colorama; sys_platform == \"win32\" in c:\\users\\neply\\anaconda3\\lib\\site-packages (from ipython>=4.0.0; python_version >= \"3.3\"->ipywidgets==7.5.1->-r requirements.txt (line 6)) (0.4.3)\n",
      "Requirement already satisfied: prompt-toolkit!=3.0.0,!=3.0.1,<3.1.0,>=2.0.0 in c:\\users\\neply\\anaconda3\\lib\\site-packages (from ipython>=4.0.0; python_version >= \"3.3\"->ipywidgets==7.5.1->-r requirements.txt (line 6)) (3.0.5)\n",
      "Requirement already satisfied: backcall in c:\\users\\neply\\anaconda3\\lib\\site-packages (from ipython>=4.0.0; python_version >= \"3.3\"->ipywidgets==7.5.1->-r requirements.txt (line 6)) (0.2.0)\n",
      "Requirement already satisfied: jedi>=0.10 in c:\\users\\neply\\anaconda3\\lib\\site-packages (from ipython>=4.0.0; python_version >= \"3.3\"->ipywidgets==7.5.1->-r requirements.txt (line 6)) (0.17.1)\n",
      "Requirement already satisfied: pickleshare in c:\\users\\neply\\anaconda3\\lib\\site-packages (from ipython>=4.0.0; python_version >= \"3.3\"->ipywidgets==7.5.1->-r requirements.txt (line 6)) (0.7.5)\n",
      "Requirement already satisfied: MarkupSafe>=0.23 in c:\\users\\neply\\anaconda3\\lib\\site-packages (from Jinja2>=2.7->bokeh==2.1.0->-r requirements.txt (line 7)) (1.1.1)\n",
      "Requirement already satisfied: pyzmq>=17 in c:\\users\\neply\\anaconda3\\lib\\site-packages (from notebook>=4.4.1->widgetsnbextension~=3.5.0->ipywidgets==7.5.1->-r requirements.txt (line 6)) (19.0.1)\n",
      "Requirement already satisfied: terminado>=0.8.1 in c:\\users\\neply\\anaconda3\\lib\\site-packages (from notebook>=4.4.1->widgetsnbextension~=3.5.0->ipywidgets==7.5.1->-r requirements.txt (line 6)) (0.8.3)\n",
      "Requirement already satisfied: prometheus-client in c:\\users\\neply\\anaconda3\\lib\\site-packages (from notebook>=4.4.1->widgetsnbextension~=3.5.0->ipywidgets==7.5.1->-r requirements.txt (line 6)) (0.8.0)\n",
      "Requirement already satisfied: Send2Trash in c:\\users\\neply\\anaconda3\\lib\\site-packages (from notebook>=4.4.1->widgetsnbextension~=3.5.0->ipywidgets==7.5.1->-r requirements.txt (line 6)) (1.5.0)\n",
      "Requirement already satisfied: nbconvert in c:\\users\\neply\\anaconda3\\lib\\site-packages (from notebook>=4.4.1->widgetsnbextension~=3.5.0->ipywidgets==7.5.1->-r requirements.txt (line 6)) (5.6.1)\n",
      "Requirement already satisfied: attrs>=17.4.0 in c:\\users\\neply\\anaconda3\\lib\\site-packages (from jsonschema!=2.5.0,>=2.4->nbformat>=4.2.0->ipywidgets==7.5.1->-r requirements.txt (line 6)) (19.3.0)\n",
      "Requirement already satisfied: importlib-metadata; python_version < \"3.8\" in c:\\users\\neply\\anaconda3\\lib\\site-packages (from jsonschema!=2.5.0,>=2.4->nbformat>=4.2.0->ipywidgets==7.5.1->-r requirements.txt (line 6)) (1.7.0)\n",
      "Requirement already satisfied: pyrsistent>=0.14.0 in c:\\users\\neply\\anaconda3\\lib\\site-packages (from jsonschema!=2.5.0,>=2.4->nbformat>=4.2.0->ipywidgets==7.5.1->-r requirements.txt (line 6)) (0.16.0)\n",
      "Requirement already satisfied: pywin32>=1.0; sys_platform == \"win32\" in c:\\users\\neply\\anaconda3\\lib\\site-packages (from jupyter-core->nbformat>=4.2.0->ipywidgets==7.5.1->-r requirements.txt (line 6)) (227)\n",
      "Requirement already satisfied: wcwidth in c:\\users\\neply\\anaconda3\\lib\\site-packages (from prompt-toolkit!=3.0.0,!=3.0.1,<3.1.0,>=2.0.0->ipython>=4.0.0; python_version >= \"3.3\"->ipywidgets==7.5.1->-r requirements.txt (line 6)) (0.2.5)\n",
      "Requirement already satisfied: parso<0.8.0,>=0.7.0 in c:\\users\\neply\\anaconda3\\lib\\site-packages (from jedi>=0.10->ipython>=4.0.0; python_version >= \"3.3\"->ipywidgets==7.5.1->-r requirements.txt (line 6)) (0.7.0)\n",
      "Requirement already satisfied: testpath in c:\\users\\neply\\anaconda3\\lib\\site-packages (from nbconvert->notebook>=4.4.1->widgetsnbextension~=3.5.0->ipywidgets==7.5.1->-r requirements.txt (line 6)) (0.4.4)\n",
      "Requirement already satisfied: defusedxml in c:\\users\\neply\\anaconda3\\lib\\site-packages (from nbconvert->notebook>=4.4.1->widgetsnbextension~=3.5.0->ipywidgets==7.5.1->-r requirements.txt (line 6)) (0.6.0)\n",
      "Requirement already satisfied: pandocfilters>=1.4.1 in c:\\users\\neply\\anaconda3\\lib\\site-packages (from nbconvert->notebook>=4.4.1->widgetsnbextension~=3.5.0->ipywidgets==7.5.1->-r requirements.txt (line 6)) (1.4.2)\n",
      "Requirement already satisfied: entrypoints>=0.2.2 in c:\\users\\neply\\anaconda3\\lib\\site-packages (from nbconvert->notebook>=4.4.1->widgetsnbextension~=3.5.0->ipywidgets==7.5.1->-r requirements.txt (line 6)) (0.3)\n",
      "Requirement already satisfied: mistune<2,>=0.8.1 in c:\\users\\neply\\anaconda3\\lib\\site-packages (from nbconvert->notebook>=4.4.1->widgetsnbextension~=3.5.0->ipywidgets==7.5.1->-r requirements.txt (line 6)) (0.8.4)\n",
      "Requirement already satisfied: bleach in c:\\users\\neply\\anaconda3\\lib\\site-packages (from nbconvert->notebook>=4.4.1->widgetsnbextension~=3.5.0->ipywidgets==7.5.1->-r requirements.txt (line 6)) (3.1.5)\n",
      "Requirement already satisfied: zipp>=0.5 in c:\\users\\neply\\anaconda3\\lib\\site-packages (from importlib-metadata; python_version < \"3.8\"->jsonschema!=2.5.0,>=2.4->nbformat>=4.2.0->ipywidgets==7.5.1->-r requirements.txt (line 6)) (3.1.0)\n",
      "Requirement already satisfied: webencodings in c:\\users\\neply\\anaconda3\\lib\\site-packages (from bleach->nbconvert->notebook>=4.4.1->widgetsnbextension~=3.5.0->ipywidgets==7.5.1->-r requirements.txt (line 6)) (0.5.1)\n"
     ]
    }
   ],
   "source": [
    "!pip install -r requirements.txt"
   ]
  }
 ],
 "metadata": {
  "kernelspec": {
   "display_name": "Python 3",
   "language": "python",
   "name": "python3"
  },
  "language_info": {
   "codemirror_mode": {
    "name": "ipython",
    "version": 3
   },
   "file_extension": ".py",
   "mimetype": "text/x-python",
   "name": "python",
   "nbconvert_exporter": "python",
   "pygments_lexer": "ipython3",
   "version": "3.7.7"
  }
 },
 "nbformat": 4,
 "nbformat_minor": 2
}
